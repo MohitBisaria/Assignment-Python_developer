{
  "nbformat": 4,
  "nbformat_minor": 0,
  "metadata": {
    "colab": {
      "provenance": []
    },
    "kernelspec": {
      "name": "python3",
      "display_name": "Python 3"
    },
    "language_info": {
      "name": "python"
    }
  },
  "cells": [
    {
      "cell_type": "code",
      "source": [
        "from typing import Dict\n",
        "\n",
        "class DataStream:\n",
        "    \"\"\"\n",
        "    A system that receives a stream of strings along with timestamps.\n",
        "    Each unique string should be printed at most every 5 seconds.\n",
        "    \"\"\"\n",
        "\n",
        "    def __init__(self) -> None:\n",
        "        \"\"\"Initializes the DataStream object.\"\"\"\n",
        "        self.last_output_times: Dict[str, int] = {}\n",
        "\n",
        "    def should_output_data_str(self, timestamp: int, data_str: str) -> bool:\n",
        "        \"\"\"\n",
        "        Checks if the data_string should be printed at the provided timestamp.\n",
        "\n",
        "        Args:\n",
        "            timestamp: The timestamp of the data string.\n",
        "            data_str: The data string.\n",
        "\n",
        "        Returns:\n",
        "            True if the data_string should be printed, False otherwise.\n",
        "        \"\"\"\n",
        "        if data_str not in self.last_output_times:  # First occurrence?\n",
        "            self.last_output_times[data_str] = timestamp\n",
        "            return True\n",
        "        elif timestamp > self.last_output_times[data_str] + 5:\n",
        "            self.last_output_times[data_str] = timestamp\n",
        "            return True\n",
        "        else:\n",
        "            return False\n",
        "\n",
        "\n",
        "def get_user_input() -> list[tuple[int, str]]:\n",
        "    \"\"\"Gets data stream input from the user.\"\"\"\n",
        "    while True:\n",
        "        try:\n",
        "            input_str = input(\"Enter timestamp and data string pairs (e.g., '0,hello;1,world;6,hello'): \")\n",
        "            input_list = []\n",
        "            pairs = input_str.split(';')\n",
        "            for pair in pairs:\n",
        "                timestamp, data_str = pair.split(',')\n",
        "                input_list.append((int(timestamp), data_str.strip()))\n",
        "            return input_list\n",
        "        except ValueError:\n",
        "            print(\"Invalid input format. Please use the format 'timestamp,data_string;timestamp,data_string...'\")\n",
        "        except Exception as e:\n",
        "            print(f\"An error occurred: {e}\")\n",
        "\n",
        "\n",
        "# Get user input\n",
        "test_cases = get_user_input()\n",
        "\n",
        "# Process the data stream\n",
        "data_stream = DataStream()\n",
        "results = []\n",
        "for timestamp, data_str in test_cases:\n",
        "    results.append(data_stream.should_output_data_str(timestamp, data_str))\n",
        "\n",
        "print(results)"
      ],
      "metadata": {
        "colab": {
          "base_uri": "https://localhost:8080/"
        },
        "id": "mwarlfz2-dfx",
        "outputId": "ea77bc0a-e7b8-4045-b136-8ec461c10edd"
      },
      "execution_count": 1,
      "outputs": [
        {
          "output_type": "stream",
          "name": "stdout",
          "text": [
            "Enter timestamp and data string pairs (e.g., '0,hello;1,world;6,hello'): 0, hello; 1, world; 5, hello; 7,hello; 8, world; 10,test; 11,test; 16, test; 1,duplicate; 2,duplicate\n",
            "[True, True, False, True, True, True, False, True, True, False]\n"
          ]
        }
      ]
    },
    {
      "cell_type": "markdown",
      "source": [
        "**Explanation of the above code**\n",
        "\n",
        "\n",
        "\n",
        "1. **DataStream Class:**\n",
        "\n",
        "__init__(self) -> None:: This is the constructor of the class. It initializes a dictionary called self.last_output_times. This dictionary stores the last timestamp at which each unique string was output. The keys are the strings, and the values are their last output timestamps.\n",
        "\n",
        "should_output_data_str(self, timestamp: int, data_str: str) -> bool:: This method is the core logic. It takes a timestamp and a string as input and determines whether the string should be printed at that timestamp.\n",
        "\n",
        "if data_str not in self.last_output_times:: This checks if it's the first time the string data_str is encountered. If it is, the timestamp is recorded in self.last_output_times, and True is returned (meaning the string should be printed).\n",
        "\n",
        "elif timestamp > self.last_output_times[data_str] + 5:: If the string has been seen before, this condition checks if the current timestamp is more than 5 seconds after the last time the string was printed. If it is, the timestamp is updated, and True is returned.\n",
        "\n",
        "else:: If neither of the above conditions is true (it's not the first time, and 5 seconds haven't passed), False is returned (the string should not be printed).\n",
        "\n",
        "2. **get_user_input() Function:**\n",
        "\n",
        "This function handles user input.\n",
        "\n",
        "while True:: This creates an infinite loop that continues until valid input is received.\n",
        "\n",
        "try...except block: This handles potential errors during input processing. It attempts to parse the user's input.\n",
        "\n",
        "input_str = input(...): Prompts the user to enter timestamp and string pairs, separated by semicolons (;).\n",
        "\n",
        "pairs = input_str.split(';'): Splits the input string into individual pairs.\n",
        "\n",
        "for pair in pairs:: Iterates through each pair.\n",
        "\n",
        "timestamp, data_str = pair.split(','): Splits each pair into timestamp and data string.\n",
        "\n",
        "input_list.append((int(timestamp), data_str.strip())): Converts the timestamp to an integer, removes any leading/trailing whitespace from the string, and adds the (timestamp, string) tuple to the input_list.\n",
        "\n",
        "return input_list: Returns the list of (timestamp, string) tuples.\n",
        "\n",
        "except ValueError and except Exception: These catch errors (like incorrect input format or other unexpected issues) and print informative error messages.\n",
        "\n",
        "3. **Main Execution Part:**\n",
        "\n",
        "test_cases = get_user_input(): Gets the user's input data.\n",
        "\n",
        "data_stream = DataStream(): Creates an instance of the DataStream class.\n",
        "\n",
        "for timestamp, data_str in test_cases:: Iterates through each (timestamp, string) pair from the user input.\n",
        "\n",
        "results.append(data_stream.should_output_data_str(timestamp, data_str)): Calls the should_output_data_str method to determine whether each string should be printed and adds the result (True or False) to the results list.\n",
        "\n",
        "print(results): Prints the final list of True/False values indicating whether each string should be printed according to the 5-second rule."
      ],
      "metadata": {
        "id": "ug8ogymxw2Bb"
      }
    },
    {
      "cell_type": "code",
      "source": [],
      "metadata": {
        "id": "gotjaeDZxJt9"
      },
      "execution_count": null,
      "outputs": []
    }
  ]
}