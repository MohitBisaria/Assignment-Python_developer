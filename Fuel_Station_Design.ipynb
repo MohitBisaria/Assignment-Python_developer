{
  "nbformat": 4,
  "nbformat_minor": 0,
  "metadata": {
    "colab": {
      "provenance": []
    },
    "kernelspec": {
      "name": "python3",
      "display_name": "Python 3"
    },
    "language_info": {
      "name": "python"
    }
  },
  "cells": [
    {
      "cell_type": "code",
      "source": [
        "class FuelStation:\n",
        "    def __init__(self, diesel, petrol, electric):\n",
        "        self.diesel_spots = diesel\n",
        "        self.petrol_spots = petrol\n",
        "        self.electric_spots = electric\n",
        "        self.diesel_occupied = 0\n",
        "        self.petrol_occupied = 0\n",
        "        self.electric_occupied = 0\n",
        "\n",
        "    def fuel_vehicle(self, fuel_type):\n",
        "        if fuel_type == \"diesel\" and self.diesel_occupied < self.diesel_spots:\n",
        "            self.diesel_occupied += 1\n",
        "            return True\n",
        "        elif fuel_type == \"petrol\" and self.petrol_occupied < self.petrol_spots:\n",
        "            self.petrol_occupied += 1\n",
        "            return True\n",
        "        elif fuel_type == \"electric\" and self.electric_occupied < self.electric_spots:\n",
        "            self.electric_occupied += 1\n",
        "            return True\n",
        "        else:\n",
        "            return False\n",
        "\n",
        "    def open_fuel_slot(self, fuel_type):\n",
        "        if fuel_type == \"diesel\" and self.diesel_occupied > 0:\n",
        "            self.diesel_occupied -= 1\n",
        "            return True\n",
        "        elif fuel_type == \"petrol\" and self.petrol_occupied > 0:\n",
        "            self.petrol_occupied -= 1\n",
        "            return True\n",
        "        elif fuel_type == \"electric\" and self.electric_occupied > 0:\n",
        "            self.electric_occupied -= 1\n",
        "            return True\n",
        "        else:\n",
        "            return False\n",
        "\n",
        "\n",
        "# Get user inputs\n",
        "while True:\n",
        "    try:\n",
        "        diesel_spots = int(input(\"Enter the number of diesel spots: \"))\n",
        "        petrol_spots = int(input(\"Enter the number of petrol spots: \"))\n",
        "        electric_spots = int(input(\"Enter the number of electric spots: \"))\n",
        "        if diesel_spots >=0 and petrol_spots >=0 and electric_spots >=0:\n",
        "            break\n",
        "        else:\n",
        "            print(\"Please enter non-negative integers.\")\n",
        "\n",
        "    except ValueError:\n",
        "        print(\"Invalid input. Please enter integers only.\")\n",
        "\n",
        "\n",
        "fuel_station = FuelStation(diesel=diesel_spots, petrol=petrol_spots, electric=electric_spots)\n",
        "\n",
        "print(fuel_station.fuel_vehicle(\"diesel\"))\n",
        "print(fuel_station.fuel_vehicle(\"petrol\"))\n",
        "print(fuel_station.fuel_vehicle(\"diesel\"))\n",
        "print(fuel_station.fuel_vehicle(\"electric\"))\n",
        "print(fuel_station.fuel_vehicle(\"diesel\"))\n",
        "print(fuel_station.open_fuel_slot(\"diesel\"))\n",
        "print(fuel_station.fuel_vehicle(\"diesel\"))\n",
        "print(fuel_station.open_fuel_slot(\"electric\"))\n",
        "print(fuel_station.open_fuel_slot(\"electric\"))"
      ],
      "metadata": {
        "colab": {
          "base_uri": "https://localhost:8080/"
        },
        "id": "p8QIVSiZMDDR",
        "outputId": "5070a705-ede8-4f9d-d260-93b0294b23ee"
      },
      "execution_count": 4,
      "outputs": [
        {
          "output_type": "stream",
          "name": "stdout",
          "text": [
            "Enter the number of diesel spots: 1\n",
            "Enter the number of petrol spots: 1\n",
            "Enter the number of electric spots: 1\n",
            "True\n",
            "True\n",
            "False\n",
            "True\n",
            "False\n",
            "True\n",
            "True\n",
            "True\n",
            "False\n"
          ]
        }
      ]
    },
    {
      "cell_type": "markdown",
      "source": [
        "Part 1: **The FuelStation Class**\n",
        "\n",
        "class FuelStation:: This line defines a class named FuelStation. Classes are blueprints for creating objects.\n",
        "\n",
        "def __init__(self, diesel, petrol, electric):: This is the constructor (initializer) for the FuelStation class. It's called automatically when you create a new FuelStation object. It takes three arguments: diesel, petrol, and electric, representing the number of spots for each fuel type.\n",
        "\n",
        "self.diesel_spots = diesel: This line assigns the value of the diesel argument to an instance variable called diesel_spots. Instance variables are data associated with a specific object of the class. self refers to the current object being created. Similar lines do the same for petrol_spots and electric_spots.\n",
        "\n",
        "self.diesel_occupied = 0: This line initializes the number of occupied diesel spots to 0. Similar lines do the same for petrol and electric.\n",
        "\n",
        "def fuel_vehicle(self, fuel_type):: This defines a method (function within a class) called fuel_vehicle. It takes the fuel_type (string: \"diesel\", \"petrol\", or \"electric\") as input.\n",
        "\n",
        "if fuel_type == \"diesel\" and self.diesel_occupied < self.diesel_spots:: This checks if the fuel type is diesel AND there are available diesel spots.\n",
        "\n",
        "self.diesel_occupied += 1: If the condition is true, this increments the number of occupied diesel spots.\n",
        "\n",
        "return True: Indicates that a vehicle was successfully fueled.\n",
        "\n",
        "elif and else: These handle the cases for petrol and electric vehicles, and the case where no spots are available.\n",
        "\n",
        "def open_fuel_slot(self, fuel_type):: This method simulates a vehicle leaving a spot. It's similar to fuel_vehicle but decrements the occupied count.\n",
        "\n",
        "The logic is similar to fuel_vehicle, checking for the fuel type and if there are any occupied spots of that type to free up.\n",
        "\n",
        "\n",
        "Part 2: **User Input and Example Usage**\n",
        "\n",
        "while True:: This creates an infinite loop that continues until explicitly broken.\n",
        "\n",
        "try...except: This error handling block attempts to convert user input to integers. If a ValueError occurs (e.g., the user enters text), it prints an error message.\n",
        "\n",
        "if diesel_spots >= 0 and ...: Checks if all inputs are non-negative.\n",
        "\n",
        "break: Exits the while loop if the inputs are valid.\n",
        "\n",
        "\n",
        "fuel_station = FuelStation(...): Creates a FuelStation object using the user-provided input.\n",
        "\n",
        "The lines after this demonstrate calling the fuel_vehicle and open_fuel_slot methods to simulate vehicle arrivals and departures. The print statements show the results (True or False) of each operation."
      ],
      "metadata": {
        "id": "At-FdJQL74oM"
      }
    },
    {
      "cell_type": "code",
      "source": [],
      "metadata": {
        "id": "3qreebvV8s8h"
      },
      "execution_count": null,
      "outputs": []
    }
  ]
}