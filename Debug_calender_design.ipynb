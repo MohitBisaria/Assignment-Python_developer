{
  "nbformat": 4,
  "nbformat_minor": 0,
  "metadata": {
    "colab": {
      "provenance": []
    },
    "kernelspec": {
      "name": "python3",
      "display_name": "Python 3"
    },
    "language_info": {
      "name": "python"
    }
  },
  "cells": [
    {
      "cell_type": "code",
      "source": [
        "from typing import Optional\n",
        "\n",
        "class Node:\n",
        "    def __init__(self, start: int, end: int):\n",
        "        self.start: int = start\n",
        "        self.end: int = end\n",
        "        self.left_child: Optional[Node] = None\n",
        "        self.right_child: Optional[Node] = None\n",
        "\n",
        "    def insert(self, node: 'Node') -> bool:\n",
        "        # Check for overlap before insertion\n",
        "        if self.overlaps(node):\n",
        "            return False\n",
        "\n",
        "        if node.start < self.start:  # Insert to left subtree\n",
        "            if not self.left_child:\n",
        "                self.left_child = node\n",
        "                return True\n",
        "            return self.left_child.insert(node)\n",
        "        else:  # Insert to right subtree\n",
        "            if not self.right_child:\n",
        "                self.right_child = node\n",
        "                return True\n",
        "            return self.right_child.insert(node)\n",
        "\n",
        "    def overlaps(self, other: 'Node') -> bool:\n",
        "        \"\"\"Checks if two intervals overlap.\"\"\"\n",
        "        return self.start < other.end and other.start < self.end\n",
        "\n",
        "class Calendar:\n",
        "    def __init__(self):\n",
        "        self.root: Node = None\n",
        "\n",
        "    def book(self, start: int, end: int) -> bool:\n",
        "        if self.root is None:\n",
        "            self.root = Node(start=start, end=end)\n",
        "            return True\n",
        "        return self.root.insert(node=Node(start, end))\n",
        "\n",
        "calendar = Calendar()\n",
        "print(calendar.book(5, 10))\n",
        "print(calendar.book(8, 13))\n",
        "print(calendar.book(10, 15))\n",
        "print(calendar.book(1, 2))\n",
        "print(calendar.book(15,17))"
      ],
      "metadata": {
        "colab": {
          "base_uri": "https://localhost:8080/"
        },
        "id": "Pfx9LwuSUYMG",
        "outputId": "ffc69e65-0c10-4816-c6fe-217af798ddfe"
      },
      "execution_count": null,
      "outputs": [
        {
          "output_type": "stream",
          "name": "stdout",
          "text": [
            "True\n",
            "False\n",
            "True\n",
            "True\n",
            "True\n"
          ]
        }
      ]
    },
    {
      "cell_type": "markdown",
      "source": [
        "**Explanation of the code**\n",
        "\n",
        "class Node:\n",
        "\n",
        "This line defines a class named Node. Each Node object represents a single scheduled event in the calendar.\n",
        "\n",
        "def __init__(self, start: int, end: int):\n",
        "\n",
        "This is the constructor for the Node class. It takes start and end integers (representing the start and end times of the event) as input and initializes the Node's attributes:\n",
        "\n",
        "self.start: int = start: Sets the start attribute to the given start time.\n",
        "\n",
        "self.end: int = end: Sets the end attribute to the given end time.\n",
        "\n",
        "self.left_child: Optional[Node] = None: Initializes the left child of this node to None (initially, it has no left child). This is part of building a binary search tree.\n",
        "\n",
        "self.right_child: Optional[Node] = None: Initializes the right child of this node to None (initially, it has no right child). This is also part of the binary search tree.\n",
        "\n",
        "def insert(self, node: 'Node') -> bool:\n",
        "\n",
        "This method attempts to insert a new Node (representing a new event) into the binary search tree rooted at the current Node. It returns True if the insertion was successful (no overlap), and False otherwise.\n",
        "\n",
        "if self.overlaps(node): return False: This line checks if the new node overlaps with the current Node. If they overlap, it immediately returns False because the insertion cannot proceed.\n",
        "\n",
        "if node.start < self.start:: This checks if the new event's start time is less than the current node's start time. If true, it should be inserted into the left subtree.\n",
        "\n",
        "if not self.left_child:: Checks if the left child is empty. If so, the new node is inserted there.\n",
        "\n",
        "self.left_child = node: Inserts the new node as the left child.\n",
        "\n",
        "return self.left_child.insert(node): If the left child already exists, the insertion recursively continues down the left subtree.\n",
        "\n",
        "else:: This handles the case where the new event's start time is greater than or equal to the current node's start time; it should be inserted in the right subtree. The logic is mirrored from the if block above, but uses the right subtree instead.\n",
        "\n",
        "def overlaps(self, other: 'Node') -> bool:\n",
        "\n",
        "This method checks if two events (self and other) overlap.\n",
        "\n",
        "return self.start < other.end and other.start < self.end: This is the core overlap check. Two intervals overlap if the start of one is before the end of the other, and vice-versa.\n",
        "\n",
        "class Calendar:\n",
        "\n",
        "This class manages the calendar as a whole, using a binary search tree of Node objects\n",
        "\n",
        "def __init__(self):\n",
        "\n",
        "The Calendar constructor initializes the root of the binary search tree to None (initially, the calendar is empty).\n",
        "\n",
        "def book(self, start: int, end: int) -> bool:\n",
        "\n",
        "This method attempts to book a new event in the calendar.\n",
        "\n",
        "if self.root is None:: If the calendar is empty, the new event becomes the root.\n",
        "\n",
        "self.root = Node(start=start, end=end): Creates a new Node and sets it as the root.\n",
        "\n",
        "return True: Returns True indicating successful booking (since it's the first event).\n",
        "\n",
        "return self.root.insert(node=Node(start, end)): If the calendar is not empty, it calls the insert method of the root node to try to add the new event. The result (True or False) is returned, indicating success or failure of the booking.\n",
        "\n",
        "calendar = Calendar()\n",
        "\n",
        "This creates a new Calendar object.\n",
        "\n",
        "print(calendar.book(5, 10)) etc.\n",
        "\n",
        "These lines test the calendar by attempting to book events and print the results (True for success, False for failure due to overlap).\n",
        "\n",
        "In essence, this code implements a calendar using a binary search tree to efficiently manage event scheduling, preventing double-bookings. The core logic for preventing overlaps resides within the overlaps and insert methods."
      ],
      "metadata": {
        "id": "1dEhwlWiCEWu"
      }
    },
    {
      "cell_type": "markdown",
      "source": [
        "**Explanation of Issue in Calender.py and debugging steps**"
      ],
      "metadata": {
        "id": "ydYHne4sKwae"
      }
    },
    {
      "cell_type": "markdown",
      "source": [
        "Limitations and Issues:\n",
        "\n",
        "The code has a significant flaw in its insert method within the Node class. The conditionals are insufficient to prevent overlapping bookings. It simply tries to insert the new node as a child, not checking for actual overlap completely. For example:\n",
        "\n",
        "Imagine bookings:\n",
        "\n",
        "(10, 20)\n",
        "\n",
        "(15, 25)\n",
        "\n",
        "The second booking overlaps with the first. However, the code might incorrectly place the second node as a right or left child depending on the order of insertion. This should return False (booking failed), but the implementation is incorrect and could allow overlapping bookings.\n",
        "\n",
        "To fix the overlapping issue, you'd need to check if the new booking's start is less than the current node's end AND the new booking's end is greater than the current node's start. This condition precisely represents an overlap. Then it should return False"
      ],
      "metadata": {
        "id": "YUsZS1sWMK2Z"
      }
    },
    {
      "cell_type": "markdown",
      "source": [
        "The primary issue with the original code in calender.py is that its insert method within the Node class doesn't accurately detect overlapping bookings. It attempts to insert nodes based on a partial comparison of start and end times, potentially creating a tree with overlapping intervals.\n",
        "\n",
        "Debugging Steps:\n",
        "\n",
        "Identify the core problem: The insert method needs a more robust overlap check. The current logic only considers if one interval's start is before the other's end or vice versa – it doesn't fully account for cases where intervals partially or fully overlap.\n",
        "\n",
        "Implement a precise overlap check: We need a condition that definitively determines if two intervals overlap. Two intervals [start1, end1) and [start2, end2) overlap if and only if: start1 < end2 AND start2 < end1.\n",
        "\n",
        "Modify the insert method: The insert method should check for overlaps before inserting a new node. If an overlap is detected, it should return False immediately; otherwise, it should proceed with insertion.\n",
        "\n",
        "Test thoroughly: Test with various scenarios to ensure the corrected code accurately handles overlapping and non-overlapping bookings.\n",
        "\n",
        "\n",
        "\n",
        "line-by-line explanation of changes:\n",
        "\n",
        "Line 20-21 (Added overlaps method): This new method efficiently checks if two intervals (self and other) overlap. This is crucial for accurately detecting conflicts.\n",
        "\n",
        "Line 8-13 (Modified insert method): The initial if/elif structure is replaced. The code now first calls overlaps to check for conflicts. Only if no conflict exists does it proceed to insert the node into the left or right subtree based on the start time."
      ],
      "metadata": {
        "id": "lVndrFzS1luC"
      }
    }
  ]
}